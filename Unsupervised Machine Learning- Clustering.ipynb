{
 "cells": [
  {
   "cell_type": "markdown",
   "id": "45670efd",
   "metadata": {},
   "source": [
    "### This script contains the following:\n",
    "\n",
    "#### 1. Importing libraries and data and renaming columns\n",
    "#### 2. Standadizing the data\n",
    "#### 3. The elbow technique\n",
    "#### 4. k-means clustering"
   ]
  },
  {
   "cell_type": "markdown",
   "id": "495d66b2",
   "metadata": {},
   "source": [
    "### 1. Importing libraries and data and renaming columns"
   ]
  },
  {
   "cell_type": "code",
   "execution_count": 1,
   "id": "0b8b49de",
   "metadata": {},
   "outputs": [],
   "source": [
    "import pandas as pd\n",
    "import numpy as np\n",
    "import seaborn as sns\n",
    "import matplotlib\n",
    "import matplotlib.pyplot as plt\n",
    "import os\n",
    "import sklearn\n",
    "from sklearn.cluster import KMeans # Here is where you import the k-means algorithm from scikit-learn.\n",
    "import pylab as pl # PyLab is a convenience module that bulk imports matplotlib.\n",
    "from sklearn.preprocessing import StandardScaler"
   ]
  },
  {
   "cell_type": "code",
   "execution_count": 2,
   "id": "d7780e78",
   "metadata": {},
   "outputs": [],
   "source": [
    "# This option ensures the graphs you create are displayed in your notebook without the need to \"call\" them specifically.\n",
    "\n",
    "%matplotlib inline"
   ]
  },
  {
   "cell_type": "code",
   "execution_count": 3,
   "id": "9107fb6e",
   "metadata": {},
   "outputs": [],
   "source": [
    "# create a path\n",
    "path = r'/Users/aibee/Desktop/CareerFoundry/6. Advanced Analytics & Dashboard Design /6.1 Sourcing Open Data'"
   ]
  },
  {
   "cell_type": "code",
   "execution_count": 4,
   "id": "2c769a5c",
   "metadata": {},
   "outputs": [],
   "source": [
    "# load data\n",
    "df = pd.read_csv(os.path.join(path,'boat_data_cleaned.csv'), index_col = False)"
   ]
  },
  {
   "cell_type": "code",
   "execution_count": 5,
   "id": "b4cc6b64",
   "metadata": {},
   "outputs": [
    {
     "data": {
      "text/html": [
       "<div>\n",
       "<style scoped>\n",
       "    .dataframe tbody tr th:only-of-type {\n",
       "        vertical-align: middle;\n",
       "    }\n",
       "\n",
       "    .dataframe tbody tr th {\n",
       "        vertical-align: top;\n",
       "    }\n",
       "\n",
       "    .dataframe thead th {\n",
       "        text-align: right;\n",
       "    }\n",
       "</style>\n",
       "<table border=\"1\" class=\"dataframe\">\n",
       "  <thead>\n",
       "    <tr style=\"text-align: right;\">\n",
       "      <th></th>\n",
       "      <th>Unnamed: 0</th>\n",
       "      <th>Boat Type</th>\n",
       "      <th>Manufacturer</th>\n",
       "      <th>Type</th>\n",
       "      <th>Year Built</th>\n",
       "      <th>Length</th>\n",
       "      <th>Width</th>\n",
       "      <th>Material</th>\n",
       "      <th>Number of views last 7 days</th>\n",
       "      <th>EUR_price</th>\n",
       "      <th>Country</th>\n",
       "      <th>City</th>\n",
       "    </tr>\n",
       "  </thead>\n",
       "  <tbody>\n",
       "    <tr>\n",
       "      <th>0</th>\n",
       "      <td>1</td>\n",
       "      <td>Center console boat</td>\n",
       "      <td>Terhi power boats</td>\n",
       "      <td>new boat from stock</td>\n",
       "      <td>2020</td>\n",
       "      <td>4.00</td>\n",
       "      <td>1.50</td>\n",
       "      <td>Thermoplastic</td>\n",
       "      <td>75</td>\n",
       "      <td>3490.0</td>\n",
       "      <td>Germany</td>\n",
       "      <td>BÃ¶nningstedt</td>\n",
       "    </tr>\n",
       "    <tr>\n",
       "      <th>1</th>\n",
       "      <td>4</td>\n",
       "      <td>Fishing Boat</td>\n",
       "      <td>Linder power boats</td>\n",
       "      <td>new boat from stock</td>\n",
       "      <td>2019</td>\n",
       "      <td>3.55</td>\n",
       "      <td>1.46</td>\n",
       "      <td>Aluminium</td>\n",
       "      <td>58</td>\n",
       "      <td>3399.0</td>\n",
       "      <td>Germany</td>\n",
       "      <td>Bayern</td>\n",
       "    </tr>\n",
       "    <tr>\n",
       "      <th>2</th>\n",
       "      <td>10</td>\n",
       "      <td>Fishing Boat</td>\n",
       "      <td>Terhi power boats</td>\n",
       "      <td>Used boat,Electric</td>\n",
       "      <td>1987</td>\n",
       "      <td>4.35</td>\n",
       "      <td>1.75</td>\n",
       "      <td>GRP</td>\n",
       "      <td>239</td>\n",
       "      <td>3570.0</td>\n",
       "      <td>Switzerland</td>\n",
       "      <td>Seengen</td>\n",
       "    </tr>\n",
       "    <tr>\n",
       "      <th>3</th>\n",
       "      <td>12</td>\n",
       "      <td>Sport Boat</td>\n",
       "      <td>GS Nautica power boats</td>\n",
       "      <td>Used boat</td>\n",
       "      <td>2004</td>\n",
       "      <td>4.70</td>\n",
       "      <td>2.00</td>\n",
       "      <td>GRP</td>\n",
       "      <td>69</td>\n",
       "      <td>3500.0</td>\n",
       "      <td>Italy</td>\n",
       "      <td>Lake Garda</td>\n",
       "    </tr>\n",
       "    <tr>\n",
       "      <th>4</th>\n",
       "      <td>13</td>\n",
       "      <td>Runabout</td>\n",
       "      <td>Kimple power boats</td>\n",
       "      <td>new boat from stock</td>\n",
       "      <td>2020</td>\n",
       "      <td>4.40</td>\n",
       "      <td>1.65</td>\n",
       "      <td>Aluminium</td>\n",
       "      <td>113</td>\n",
       "      <td>4692.0</td>\n",
       "      <td>Switzerland</td>\n",
       "      <td>Zugersee</td>\n",
       "    </tr>\n",
       "  </tbody>\n",
       "</table>\n",
       "</div>"
      ],
      "text/plain": [
       "   Unnamed: 0            Boat Type            Manufacturer  \\\n",
       "0           1  Center console boat       Terhi power boats   \n",
       "1           4         Fishing Boat      Linder power boats   \n",
       "2          10         Fishing Boat       Terhi power boats   \n",
       "3          12           Sport Boat  GS Nautica power boats   \n",
       "4          13             Runabout      Kimple power boats   \n",
       "\n",
       "                  Type  Year Built  Length  Width       Material  \\\n",
       "0  new boat from stock        2020    4.00   1.50  Thermoplastic   \n",
       "1  new boat from stock        2019    3.55   1.46      Aluminium   \n",
       "2   Used boat,Electric        1987    4.35   1.75            GRP   \n",
       "3            Used boat        2004    4.70   2.00            GRP   \n",
       "4  new boat from stock        2020    4.40   1.65      Aluminium   \n",
       "\n",
       "   Number of views last 7 days  EUR_price       Country            City  \n",
       "0                           75     3490.0      Germany    BÃ¶nningstedt  \n",
       "1                           58     3399.0      Germany          Bayern   \n",
       "2                          239     3570.0  Switzerland          Seengen  \n",
       "3                           69     3500.0        Italy      Lake Garda   \n",
       "4                          113     4692.0  Switzerland        Zugersee   "
      ]
     },
     "execution_count": 5,
     "metadata": {},
     "output_type": "execute_result"
    }
   ],
   "source": [
    "df.head(5)"
   ]
  },
  {
   "cell_type": "markdown",
   "id": "a4d7cc43",
   "metadata": {},
   "source": [
    "#### Data Cleaning"
   ]
  },
  {
   "cell_type": "code",
   "execution_count": 6,
   "id": "58f2b39f",
   "metadata": {},
   "outputs": [],
   "source": [
    "# Drop the redundant columns\n",
    "df1 = df.drop(['Unnamed: 0'],axis = 1)"
   ]
  },
  {
   "cell_type": "code",
   "execution_count": 7,
   "id": "059a264a",
   "metadata": {},
   "outputs": [],
   "source": [
    "# Rename the columns.\n",
    "df1.rename(columns = {'Number of views last 7 days':'7days_views'}, inplace = True)"
   ]
  },
  {
   "cell_type": "code",
   "execution_count": 8,
   "id": "b36dd925",
   "metadata": {},
   "outputs": [
    {
     "data": {
      "text/html": [
       "<div>\n",
       "<style scoped>\n",
       "    .dataframe tbody tr th:only-of-type {\n",
       "        vertical-align: middle;\n",
       "    }\n",
       "\n",
       "    .dataframe tbody tr th {\n",
       "        vertical-align: top;\n",
       "    }\n",
       "\n",
       "    .dataframe thead th {\n",
       "        text-align: right;\n",
       "    }\n",
       "</style>\n",
       "<table border=\"1\" class=\"dataframe\">\n",
       "  <thead>\n",
       "    <tr style=\"text-align: right;\">\n",
       "      <th></th>\n",
       "      <th>Boat Type</th>\n",
       "      <th>Manufacturer</th>\n",
       "      <th>Type</th>\n",
       "      <th>Year Built</th>\n",
       "      <th>Length</th>\n",
       "      <th>Width</th>\n",
       "      <th>Material</th>\n",
       "      <th>7days_views</th>\n",
       "      <th>EUR_price</th>\n",
       "      <th>Country</th>\n",
       "      <th>City</th>\n",
       "    </tr>\n",
       "  </thead>\n",
       "  <tbody>\n",
       "    <tr>\n",
       "      <th>0</th>\n",
       "      <td>Center console boat</td>\n",
       "      <td>Terhi power boats</td>\n",
       "      <td>new boat from stock</td>\n",
       "      <td>2020</td>\n",
       "      <td>4.00</td>\n",
       "      <td>1.50</td>\n",
       "      <td>Thermoplastic</td>\n",
       "      <td>75</td>\n",
       "      <td>3490.0</td>\n",
       "      <td>Germany</td>\n",
       "      <td>BÃ¶nningstedt</td>\n",
       "    </tr>\n",
       "    <tr>\n",
       "      <th>1</th>\n",
       "      <td>Fishing Boat</td>\n",
       "      <td>Linder power boats</td>\n",
       "      <td>new boat from stock</td>\n",
       "      <td>2019</td>\n",
       "      <td>3.55</td>\n",
       "      <td>1.46</td>\n",
       "      <td>Aluminium</td>\n",
       "      <td>58</td>\n",
       "      <td>3399.0</td>\n",
       "      <td>Germany</td>\n",
       "      <td>Bayern</td>\n",
       "    </tr>\n",
       "    <tr>\n",
       "      <th>2</th>\n",
       "      <td>Fishing Boat</td>\n",
       "      <td>Terhi power boats</td>\n",
       "      <td>Used boat,Electric</td>\n",
       "      <td>1987</td>\n",
       "      <td>4.35</td>\n",
       "      <td>1.75</td>\n",
       "      <td>GRP</td>\n",
       "      <td>239</td>\n",
       "      <td>3570.0</td>\n",
       "      <td>Switzerland</td>\n",
       "      <td>Seengen</td>\n",
       "    </tr>\n",
       "    <tr>\n",
       "      <th>3</th>\n",
       "      <td>Sport Boat</td>\n",
       "      <td>GS Nautica power boats</td>\n",
       "      <td>Used boat</td>\n",
       "      <td>2004</td>\n",
       "      <td>4.70</td>\n",
       "      <td>2.00</td>\n",
       "      <td>GRP</td>\n",
       "      <td>69</td>\n",
       "      <td>3500.0</td>\n",
       "      <td>Italy</td>\n",
       "      <td>Lake Garda</td>\n",
       "    </tr>\n",
       "    <tr>\n",
       "      <th>4</th>\n",
       "      <td>Runabout</td>\n",
       "      <td>Kimple power boats</td>\n",
       "      <td>new boat from stock</td>\n",
       "      <td>2020</td>\n",
       "      <td>4.40</td>\n",
       "      <td>1.65</td>\n",
       "      <td>Aluminium</td>\n",
       "      <td>113</td>\n",
       "      <td>4692.0</td>\n",
       "      <td>Switzerland</td>\n",
       "      <td>Zugersee</td>\n",
       "    </tr>\n",
       "  </tbody>\n",
       "</table>\n",
       "</div>"
      ],
      "text/plain": [
       "             Boat Type            Manufacturer                 Type  \\\n",
       "0  Center console boat       Terhi power boats  new boat from stock   \n",
       "1         Fishing Boat      Linder power boats  new boat from stock   \n",
       "2         Fishing Boat       Terhi power boats   Used boat,Electric   \n",
       "3           Sport Boat  GS Nautica power boats            Used boat   \n",
       "4             Runabout      Kimple power boats  new boat from stock   \n",
       "\n",
       "   Year Built  Length  Width       Material  7days_views  EUR_price  \\\n",
       "0        2020    4.00   1.50  Thermoplastic           75     3490.0   \n",
       "1        2019    3.55   1.46      Aluminium           58     3399.0   \n",
       "2        1987    4.35   1.75            GRP          239     3570.0   \n",
       "3        2004    4.70   2.00            GRP           69     3500.0   \n",
       "4        2020    4.40   1.65      Aluminium          113     4692.0   \n",
       "\n",
       "        Country            City  \n",
       "0      Germany    BÃ¶nningstedt  \n",
       "1      Germany          Bayern   \n",
       "2  Switzerland          Seengen  \n",
       "3        Italy      Lake Garda   \n",
       "4  Switzerland        Zugersee   "
      ]
     },
     "execution_count": 8,
     "metadata": {},
     "output_type": "execute_result"
    }
   ],
   "source": [
    "df1.head(5)"
   ]
  },
  {
   "cell_type": "code",
   "execution_count": 9,
   "id": "a7b73c9e",
   "metadata": {},
   "outputs": [],
   "source": [
    "df = df1[['Length','Width','7days_views','EUR_price']]"
   ]
  },
  {
   "cell_type": "code",
   "execution_count": 10,
   "id": "adc48748",
   "metadata": {},
   "outputs": [
    {
     "data": {
      "text/html": [
       "<div>\n",
       "<style scoped>\n",
       "    .dataframe tbody tr th:only-of-type {\n",
       "        vertical-align: middle;\n",
       "    }\n",
       "\n",
       "    .dataframe tbody tr th {\n",
       "        vertical-align: top;\n",
       "    }\n",
       "\n",
       "    .dataframe thead th {\n",
       "        text-align: right;\n",
       "    }\n",
       "</style>\n",
       "<table border=\"1\" class=\"dataframe\">\n",
       "  <thead>\n",
       "    <tr style=\"text-align: right;\">\n",
       "      <th></th>\n",
       "      <th>Length</th>\n",
       "      <th>Width</th>\n",
       "      <th>7days_views</th>\n",
       "      <th>EUR_price</th>\n",
       "    </tr>\n",
       "  </thead>\n",
       "  <tbody>\n",
       "    <tr>\n",
       "      <th>0</th>\n",
       "      <td>4.00</td>\n",
       "      <td>1.50</td>\n",
       "      <td>75</td>\n",
       "      <td>3490.00</td>\n",
       "    </tr>\n",
       "    <tr>\n",
       "      <th>1</th>\n",
       "      <td>3.55</td>\n",
       "      <td>1.46</td>\n",
       "      <td>58</td>\n",
       "      <td>3399.00</td>\n",
       "    </tr>\n",
       "    <tr>\n",
       "      <th>2</th>\n",
       "      <td>4.35</td>\n",
       "      <td>1.75</td>\n",
       "      <td>239</td>\n",
       "      <td>3570.00</td>\n",
       "    </tr>\n",
       "    <tr>\n",
       "      <th>3</th>\n",
       "      <td>4.70</td>\n",
       "      <td>2.00</td>\n",
       "      <td>69</td>\n",
       "      <td>3500.00</td>\n",
       "    </tr>\n",
       "    <tr>\n",
       "      <th>4</th>\n",
       "      <td>4.40</td>\n",
       "      <td>1.65</td>\n",
       "      <td>113</td>\n",
       "      <td>4692.00</td>\n",
       "    </tr>\n",
       "    <tr>\n",
       "      <th>...</th>\n",
       "      <td>...</td>\n",
       "      <td>...</td>\n",
       "      <td>...</td>\n",
       "      <td>...</td>\n",
       "    </tr>\n",
       "    <tr>\n",
       "      <th>5996</th>\n",
       "      <td>7.20</td>\n",
       "      <td>2.70</td>\n",
       "      <td>1299</td>\n",
       "      <td>5100.00</td>\n",
       "    </tr>\n",
       "    <tr>\n",
       "      <th>5997</th>\n",
       "      <td>6.00</td>\n",
       "      <td>2.10</td>\n",
       "      <td>1917</td>\n",
       "      <td>5098.98</td>\n",
       "    </tr>\n",
       "    <tr>\n",
       "      <th>5998</th>\n",
       "      <td>6.00</td>\n",
       "      <td>1.62</td>\n",
       "      <td>288</td>\n",
       "      <td>5049.00</td>\n",
       "    </tr>\n",
       "    <tr>\n",
       "      <th>5999</th>\n",
       "      <td>4.40</td>\n",
       "      <td>1.80</td>\n",
       "      <td>354</td>\n",
       "      <td>4499.00</td>\n",
       "    </tr>\n",
       "    <tr>\n",
       "      <th>6000</th>\n",
       "      <td>3.60</td>\n",
       "      <td>1.60</td>\n",
       "      <td>194</td>\n",
       "      <td>3855.60</td>\n",
       "    </tr>\n",
       "  </tbody>\n",
       "</table>\n",
       "<p>6001 rows × 4 columns</p>\n",
       "</div>"
      ],
      "text/plain": [
       "      Length  Width  7days_views  EUR_price\n",
       "0       4.00   1.50           75    3490.00\n",
       "1       3.55   1.46           58    3399.00\n",
       "2       4.35   1.75          239    3570.00\n",
       "3       4.70   2.00           69    3500.00\n",
       "4       4.40   1.65          113    4692.00\n",
       "...      ...    ...          ...        ...\n",
       "5996    7.20   2.70         1299    5100.00\n",
       "5997    6.00   2.10         1917    5098.98\n",
       "5998    6.00   1.62          288    5049.00\n",
       "5999    4.40   1.80          354    4499.00\n",
       "6000    3.60   1.60          194    3855.60\n",
       "\n",
       "[6001 rows x 4 columns]"
      ]
     },
     "execution_count": 10,
     "metadata": {},
     "output_type": "execute_result"
    }
   ],
   "source": [
    "df"
   ]
  },
  {
   "cell_type": "code",
   "execution_count": 11,
   "id": "b32bb447",
   "metadata": {},
   "outputs": [
    {
     "data": {
      "text/plain": [
       "(6001, 4)"
      ]
     },
     "execution_count": 11,
     "metadata": {},
     "output_type": "execute_result"
    }
   ],
   "source": [
    "df.shape"
   ]
  },
  {
   "cell_type": "markdown",
   "id": "cd592103",
   "metadata": {},
   "source": [
    "### 2. Standadizing the data\n"
   ]
  },
  {
   "cell_type": "code",
   "execution_count": 12,
   "id": "17154f11",
   "metadata": {},
   "outputs": [
    {
     "name": "stdout",
     "output_type": "stream",
     "text": [
      "[[-1.41005333 -1.76743232 -0.52645641 -0.36246306]\n",
      " [-1.50289423 -1.8047781  -0.62569917 -0.36260574]\n",
      " [-1.33784374 -1.53402117  0.43094436 -0.36233764]\n",
      " ...\n",
      " [-0.99742711 -1.65539497  0.71699703 -0.36001879]\n",
      " [-1.32752808 -1.48733894  1.10229246 -0.3608811 ]\n",
      " [-1.49257857 -1.67406786  0.16824293 -0.36188986]]\n"
     ]
    }
   ],
   "source": [
    "# standazing the data\n",
    "scaler = StandardScaler()\n",
    "standardized_data = scaler.fit_transform(df)\n",
    "print(standardized_data)"
   ]
  },
  {
   "cell_type": "code",
   "execution_count": 13,
   "id": "c75223d8",
   "metadata": {},
   "outputs": [
    {
     "name": "stdout",
     "output_type": "stream",
     "text": [
      "        Length     Width  7days_views  EUR_price\n",
      "0    -1.410053 -1.767432    -0.526456  -0.362463\n",
      "1    -1.502894 -1.804778    -0.625699  -0.362606\n",
      "2    -1.337844 -1.534021     0.430944  -0.362338\n",
      "3    -1.265634 -1.300610    -0.561483  -0.362447\n",
      "4    -1.327528 -1.627386    -0.304620  -0.360579\n",
      "...        ...       ...          ...        ...\n",
      "5996 -0.749851 -0.647059     6.619022  -0.359939\n",
      "5997 -0.997427 -1.207246    10.226789  -0.359940\n",
      "5998 -0.997427 -1.655395     0.716997  -0.360019\n",
      "5999 -1.327528 -1.487339     1.102292  -0.360881\n",
      "6000 -1.492579 -1.674068     0.168243  -0.361890\n",
      "\n",
      "[6001 rows x 4 columns]\n"
     ]
    }
   ],
   "source": [
    "# coverting to dataframe\n",
    "df = pd.DataFrame(standardized_data, columns=df.columns)\n",
    "print(df)"
   ]
  },
  {
   "cell_type": "markdown",
   "id": "300ebb0c",
   "metadata": {},
   "source": [
    "### 3. The elbow technique"
   ]
  },
  {
   "cell_type": "code",
   "execution_count": 14,
   "id": "db1afaca",
   "metadata": {},
   "outputs": [],
   "source": [
    "num_cl = range(1, 10) # Defines the range of potential clusters in the data.\n",
    "kmeans = [KMeans(n_clusters=i) for i in num_cl] # Defines k-means clusters in the range assigned above."
   ]
  },
  {
   "cell_type": "code",
   "execution_count": 15,
   "id": "af7e5729",
   "metadata": {},
   "outputs": [
    {
     "data": {
      "text/plain": [
       "[-24004.000000000007,\n",
       " -15675.36192161695,\n",
       " -11918.836989024543,\n",
       " -9074.40077714726,\n",
       " -7104.919930442594,\n",
       " -6077.731731616942,\n",
       " -5349.971113612155,\n",
       " -4634.285263057959,\n",
       " -4124.639426271732]"
      ]
     },
     "execution_count": 15,
     "metadata": {},
     "output_type": "execute_result"
    }
   ],
   "source": [
    "score = [kmeans[i].fit(df).score(df) for i in range(len(kmeans))] # Creates a score that represents \n",
    "# a rate of variation for the given cluster option.\n",
    "\n",
    "score"
   ]
  },
  {
   "cell_type": "code",
   "execution_count": 16,
   "id": "5940de21",
   "metadata": {},
   "outputs": [
    {
     "data": {
      "image/png": "[encoded data removed]",
      "text/plain": [
       "<Figure size 432x288 with 1 Axes>"
      ]
     },
     "metadata": {
      "needs_background": "light"
     },
     "output_type": "display_data"
    }
   ],
   "source": [
    "# Plot the elbow curve using PyLab.\n",
    "\n",
    "pl.plot(num_cl,score)\n",
    "pl.xlabel('Number of Clusters')\n",
    "pl.ylabel('Score')\n",
    "pl.title('Elbow Curve')\n",
    "pl.show()"
   ]
  },
  {
   "cell_type": "markdown",
   "id": "8b25dabc",
   "metadata": {},
   "source": [
    "#### The is a noticable straighten line on the x-axis after 5. Therefore, the optimal count for your clusters is five."
   ]
  },
  {
   "cell_type": "markdown",
   "id": "29c45499",
   "metadata": {},
   "source": [
    "### 4. k-means clustering"
   ]
  },
  {
   "cell_type": "code",
   "execution_count": 17,
   "id": "15b590a0",
   "metadata": {},
   "outputs": [],
   "source": [
    "# Create the k-means object.\n",
    "\n",
    "kmeans = KMeans(n_clusters = 5) "
   ]
  },
  {
   "cell_type": "code",
   "execution_count": 18,
   "id": "e0ff0cc0",
   "metadata": {},
   "outputs": [
    {
     "data": {
      "text/plain": [
       "KMeans(n_clusters=5)"
      ]
     },
     "execution_count": 18,
     "metadata": {},
     "output_type": "execute_result"
    }
   ],
   "source": [
    "# Fit the k-means object to the data.\n",
    "\n",
    "kmeans.fit(df)"
   ]
  },
  {
   "cell_type": "code",
   "execution_count": 19,
   "id": "4108cec4",
   "metadata": {},
   "outputs": [],
   "source": [
    "df['clusters'] = kmeans.fit_predict(df)"
   ]
  },
  {
   "cell_type": "code",
   "execution_count": 20,
   "id": "d277d421",
   "metadata": {},
   "outputs": [
    {
     "data": {
      "text/html": [
       "<div>\n",
       "<style scoped>\n",
       "    .dataframe tbody tr th:only-of-type {\n",
       "        vertical-align: middle;\n",
       "    }\n",
       "\n",
       "    .dataframe tbody tr th {\n",
       "        vertical-align: top;\n",
       "    }\n",
       "\n",
       "    .dataframe thead th {\n",
       "        text-align: right;\n",
       "    }\n",
       "</style>\n",
       "<table border=\"1\" class=\"dataframe\">\n",
       "  <thead>\n",
       "    <tr style=\"text-align: right;\">\n",
       "      <th></th>\n",
       "      <th>Length</th>\n",
       "      <th>Width</th>\n",
       "      <th>7days_views</th>\n",
       "      <th>EUR_price</th>\n",
       "      <th>clusters</th>\n",
       "    </tr>\n",
       "  </thead>\n",
       "  <tbody>\n",
       "    <tr>\n",
       "      <th>0</th>\n",
       "      <td>-1.410053</td>\n",
       "      <td>-1.767432</td>\n",
       "      <td>-0.526456</td>\n",
       "      <td>-0.362463</td>\n",
       "      <td>0</td>\n",
       "    </tr>\n",
       "    <tr>\n",
       "      <th>1</th>\n",
       "      <td>-1.502894</td>\n",
       "      <td>-1.804778</td>\n",
       "      <td>-0.625699</td>\n",
       "      <td>-0.362606</td>\n",
       "      <td>0</td>\n",
       "    </tr>\n",
       "    <tr>\n",
       "      <th>2</th>\n",
       "      <td>-1.337844</td>\n",
       "      <td>-1.534021</td>\n",
       "      <td>0.430944</td>\n",
       "      <td>-0.362338</td>\n",
       "      <td>0</td>\n",
       "    </tr>\n",
       "    <tr>\n",
       "      <th>3</th>\n",
       "      <td>-1.265634</td>\n",
       "      <td>-1.300610</td>\n",
       "      <td>-0.561483</td>\n",
       "      <td>-0.362447</td>\n",
       "      <td>0</td>\n",
       "    </tr>\n",
       "    <tr>\n",
       "      <th>4</th>\n",
       "      <td>-1.327528</td>\n",
       "      <td>-1.627386</td>\n",
       "      <td>-0.304620</td>\n",
       "      <td>-0.360579</td>\n",
       "      <td>0</td>\n",
       "    </tr>\n",
       "  </tbody>\n",
       "</table>\n",
       "</div>"
      ],
      "text/plain": [
       "     Length     Width  7days_views  EUR_price  clusters\n",
       "0 -1.410053 -1.767432    -0.526456  -0.362463         0\n",
       "1 -1.502894 -1.804778    -0.625699  -0.362606         0\n",
       "2 -1.337844 -1.534021     0.430944  -0.362338         0\n",
       "3 -1.265634 -1.300610    -0.561483  -0.362447         0\n",
       "4 -1.327528 -1.627386    -0.304620  -0.360579         0"
      ]
     },
     "execution_count": 20,
     "metadata": {},
     "output_type": "execute_result"
    }
   ],
   "source": [
    "df.head()"
   ]
  },
  {
   "cell_type": "code",
   "execution_count": 21,
   "id": "9d7d7dbc",
   "metadata": {},
   "outputs": [
    {
     "data": {
      "text/plain": [
       "0    2922\n",
       "2    2233\n",
       "1     495\n",
       "4     321\n",
       "3      30\n",
       "Name: clusters, dtype: int64"
      ]
     },
     "execution_count": 21,
     "metadata": {},
     "output_type": "execute_result"
    }
   ],
   "source": [
    "df['clusters'].value_counts()"
   ]
  },
  {
   "cell_type": "code",
   "execution_count": 22,
   "id": "feb6a4b3",
   "metadata": {},
   "outputs": [
    {
     "data": {
      "image/png": "[encoded data removed]",
      "text/plain": [
       "<Figure size 864x576 with 1 Axes>"
      ]
     },
     "metadata": {
      "needs_background": "light"
     },
     "output_type": "display_data"
    }
   ],
   "source": [
    "# Plot the clusters for the \"EUR_price\" and \"Length\" variables.\n",
    "\n",
    "plt.figure(figsize=(12,8))\n",
    "ax = sns.scatterplot(x=df['Length'], y=df['EUR_price'], hue=kmeans.labels_, s=100) \n",
    "# Here, you're subsetting `X` for the x and y arguments to avoid using their labels. \n",
    "# `hue` takes the value of the attribute `kmeans.labels_`, which is the result of running the k-means algorithm.\n",
    "# `s` represents the size of the points you want to see in the plot.\n",
    "\n",
    "ax.grid(False) # This removes the grid from the background.\n",
    "plt.xlabel('Length of the boat') # Label x-axis.\n",
    "plt.ylabel('Price per boat') # Label y-axis.\n",
    "plt.show()"
   ]
  },
  {
   "cell_type": "code",
   "execution_count": 23,
   "id": "8757b58f",
   "metadata": {},
   "outputs": [
    {
     "data": {
      "image/png": "[encoded data removed]",
      "text/plain": [
       "<Figure size 864x576 with 1 Axes>"
      ]
     },
     "metadata": {
      "needs_background": "light"
     },
     "output_type": "display_data"
    }
   ],
   "source": [
    "# Plot the clusters for the \"7days_views\" and \"EUR_price\" variables.\n",
    "\n",
    "plt.figure(figsize=(12,8))\n",
    "ax = sns.scatterplot(x=df['7days_views'], y=df['EUR_price'], hue=kmeans.labels_, s=100)\n",
    "\n",
    "ax.grid(False) \n",
    "plt.xlabel('7days_views') \n",
    "plt.ylabel('EUR_price') \n",
    "plt.show()"
   ]
  },
  {
   "cell_type": "markdown",
   "id": "f3ca0149",
   "metadata": {},
   "source": [
    "##### Explaining the graph"
   ]
  },
  {
   "cell_type": "markdown",
   "id": "93a3e5cc",
   "metadata": {},
   "source": [
    "#### The two graphs does not entirely makes sense or give a great insight to the relationship between the cost of the boat and either of the Length or Views of each boat. This gives a suggestion that there are other important factors that are inclusively and would all together be determinant of the boat price"
   ]
  },
  {
   "cell_type": "code",
   "execution_count": 24,
   "id": "aa8d4f81",
   "metadata": {},
   "outputs": [],
   "source": [
    "df.loc[df['clusters'] == 4, 'cluster'] = 'dark purple'\n",
    "df.loc[df['clusters'] == 3, 'cluster'] = 'dent purple'\n",
    "df.loc[df['clusters'] == 2, 'cluster'] = 'purple'\n",
    "df.loc[df['clusters'] == 1, 'cluster'] = 'whitish purple'\n",
    "df.loc[df['clusters'] == 0, 'cluster'] = 'whitish pink'"
   ]
  },
  {
   "cell_type": "code",
   "execution_count": 25,
   "id": "9e6033e6",
   "metadata": {},
   "outputs": [
    {
     "data": {
      "text/html": [
       "<div>\n",
       "<style scoped>\n",
       "    .dataframe tbody tr th:only-of-type {\n",
       "        vertical-align: middle;\n",
       "    }\n",
       "\n",
       "    .dataframe tbody tr th {\n",
       "        vertical-align: top;\n",
       "    }\n",
       "\n",
       "    .dataframe thead tr th {\n",
       "        text-align: left;\n",
       "    }\n",
       "\n",
       "    .dataframe thead tr:last-of-type th {\n",
       "        text-align: right;\n",
       "    }\n",
       "</style>\n",
       "<table border=\"1\" class=\"dataframe\">\n",
       "  <thead>\n",
       "    <tr>\n",
       "      <th></th>\n",
       "      <th colspan=\"2\" halign=\"left\">Length</th>\n",
       "      <th colspan=\"2\" halign=\"left\">Width</th>\n",
       "      <th colspan=\"2\" halign=\"left\">7days_views</th>\n",
       "      <th colspan=\"2\" halign=\"left\">EUR_price</th>\n",
       "    </tr>\n",
       "    <tr>\n",
       "      <th></th>\n",
       "      <th>mean</th>\n",
       "      <th>median</th>\n",
       "      <th>mean</th>\n",
       "      <th>median</th>\n",
       "      <th>mean</th>\n",
       "      <th>median</th>\n",
       "      <th>mean</th>\n",
       "      <th>median</th>\n",
       "    </tr>\n",
       "    <tr>\n",
       "      <th>cluster</th>\n",
       "      <th></th>\n",
       "      <th></th>\n",
       "      <th></th>\n",
       "      <th></th>\n",
       "      <th></th>\n",
       "      <th></th>\n",
       "      <th></th>\n",
       "      <th></th>\n",
       "    </tr>\n",
       "  </thead>\n",
       "  <tbody>\n",
       "    <tr>\n",
       "      <th>dark purple</th>\n",
       "      <td>-0.529302</td>\n",
       "      <td>-0.646695</td>\n",
       "      <td>-0.547499</td>\n",
       "      <td>-0.749760</td>\n",
       "      <td>3.057831</td>\n",
       "      <td>2.427475</td>\n",
       "      <td>-0.241486</td>\n",
       "      <td>-0.309924</td>\n",
       "    </tr>\n",
       "    <tr>\n",
       "      <th>dent purple</th>\n",
       "      <td>4.686912</td>\n",
       "      <td>4.116043</td>\n",
       "      <td>3.758810</td>\n",
       "      <td>3.451641</td>\n",
       "      <td>0.398253</td>\n",
       "      <td>-0.091540</td>\n",
       "      <td>10.398493</td>\n",
       "      <td>8.764783</td>\n",
       "    </tr>\n",
       "    <tr>\n",
       "      <th>purple</th>\n",
       "      <td>0.438586</td>\n",
       "      <td>0.399313</td>\n",
       "      <td>0.572144</td>\n",
       "      <td>0.566679</td>\n",
       "      <td>-0.301156</td>\n",
       "      <td>-0.398025</td>\n",
       "      <td>-0.023679</td>\n",
       "      <td>-0.077883</td>\n",
       "    </tr>\n",
       "    <tr>\n",
       "      <th>whitish pink</th>\n",
       "      <td>-0.681999</td>\n",
       "      <td>-0.692084</td>\n",
       "      <td>-0.740577</td>\n",
       "      <td>-0.787105</td>\n",
       "      <td>-0.050637</td>\n",
       "      <td>-0.170350</td>\n",
       "      <td>-0.269052</td>\n",
       "      <td>-0.292043</td>\n",
       "    </tr>\n",
       "    <tr>\n",
       "      <th>whitish purple</th>\n",
       "      <td>2.106539</td>\n",
       "      <td>1.926030</td>\n",
       "      <td>1.917880</td>\n",
       "      <td>1.715062</td>\n",
       "      <td>-0.349636</td>\n",
       "      <td>-0.473916</td>\n",
       "      <td>1.221431</td>\n",
       "      <td>0.886030</td>\n",
       "    </tr>\n",
       "  </tbody>\n",
       "</table>\n",
       "</div>"
      ],
      "text/plain": [
       "                  Length               Width           7days_views            \\\n",
       "                    mean    median      mean    median        mean    median   \n",
       "cluster                                                                        \n",
       "dark purple    -0.529302 -0.646695 -0.547499 -0.749760    3.057831  2.427475   \n",
       "dent purple     4.686912  4.116043  3.758810  3.451641    0.398253 -0.091540   \n",
       "purple          0.438586  0.399313  0.572144  0.566679   -0.301156 -0.398025   \n",
       "whitish pink   -0.681999 -0.692084 -0.740577 -0.787105   -0.050637 -0.170350   \n",
       "whitish purple  2.106539  1.926030  1.917880  1.715062   -0.349636 -0.473916   \n",
       "\n",
       "                EUR_price            \n",
       "                     mean    median  \n",
       "cluster                              \n",
       "dark purple     -0.241486 -0.309924  \n",
       "dent purple     10.398493  8.764783  \n",
       "purple          -0.023679 -0.077883  \n",
       "whitish pink    -0.269052 -0.292043  \n",
       "whitish purple   1.221431  0.886030  "
      ]
     },
     "execution_count": 25,
     "metadata": {},
     "output_type": "execute_result"
    }
   ],
   "source": [
    "df.groupby('cluster').agg({'Length':['mean', 'median'], \n",
    "                         'Width':['mean', 'median'], \n",
    "                         '7days_views':['mean', 'median'],\n",
    "                          'EUR_price':['mean', 'median']})"
   ]
  },
  {
   "cell_type": "markdown",
   "id": "e8b8bba6",
   "metadata": {},
   "source": [
    "#### As explained earlier, the data does not suggest a great insight as to the relationship between the columns. However, the dark blue cluster returned best stats out of the lots. The median number of lengths, width and price is highest and significantly larger than the other four. This is interest has length and width would determine the size of a boat and this could be proportionate to price. In general, there are other important characteristics variables to be considered in assessing the price of the boats.\n",
    "\n",
    "#### This analysis has given more insight into the need to explore further the other categorical variables in dataframe in other to discover the actual determinant of the cost or views recieved by each boat. "
   ]
  },
  {
   "cell_type": "code",
   "execution_count": null,
   "id": "fe0a5e2f",
   "metadata": {},
   "outputs": [],
   "source": []
  }
 ],
 "metadata": {
  "kernelspec": {
   "display_name": "Python 3 (ipykernel)",
   "language": "python",
   "name": "python3"
  },
  "language_info": {
   "codemirror_mode": {
    "name": "ipython",
    "version": 3
   },
   "file_extension": ".py",
   "mimetype": "text/x-python",
   "name": "python",
   "nbconvert_exporter": "python",
   "pygments_lexer": "ipython3",
   "version": "3.9.12"
  }
 },
 "nbformat": 4,
 "nbformat_minor": 5
}
